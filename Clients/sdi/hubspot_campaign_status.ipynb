{
 "cells": [
  {
   "cell_type": "markdown",
   "metadata": {},
   "source": [
    "The use case of this python script is to get the hubspot campaign using API key manually. \n",
    "\n",
    "key problem - currently in stitch API table stitch could not provide us the data of campaign level. eventho there is campaign table but it is actually email campaign level table. \n",
    "\n",
    "Import all the libaries and app token ( hubspot)"
   ]
  },
  {
   "cell_type": "code",
   "execution_count": null,
   "metadata": {
    "vscode": {
     "languageId": "plaintext"
    }
   },
   "outputs": [],
   "source": [
    "# Import libraries\n",
    "import requests\n",
    "import pandas as pd\n",
    "import pandas_gbq as bq\n",
    "import pydata_google_auth\n",
    "\n",
    "# Set private app token"
   ]
  },
  {
   "cell_type": "code",
   "execution_count": null,
   "metadata": {
    "vscode": {
     "languageId": "plaintext"
    }
   },
   "outputs": [],
   "source": [
    "import json\n",
    "import pandas as pd\n",
    "import requests\n",
    "\n",
    "url = \"https://api.hubapi.com/marketing-emails/v1/emails/\"\n",
    "all_objects = []\n",
    "offset = 0\n",
    "limit = 10  # This seems to be the default limit from the API\n",
    "\n",
    "headers = {\n",
    "    'accept': \"application/json\",\n",
    "    'authorization': f'Bearer {key}'\n",
    "}\n",
    "\n",
    "try:\n",
    "    # Loop until we get all records\n",
    "    while True:\n",
    "        # Add offset to querystring\n",
    "        querystring = {\n",
    "            \"properties\": [\"campaign\"],\n",
    "            \"offset\": offset\n",
    "        }\n",
    "        \n",
    "        response = requests.request(\"GET\", url, headers=headers, params=querystring)\n",
    "        response.raise_for_status()\n",
    "        data = response.json()\n",
    "        \n",
    "        objects = data['objects']\n",
    "        all_objects.extend(objects)\n",
    "        \n",
    "        print(f\"Fetched {len(objects)} objects. Total so far: {len(all_objects)}\")\n",
    "        \n",
    "        # Check if we've got all records\n",
    "        if len(all_objects) >= data['total']:\n",
    "            break\n",
    "            \n",
    "        # Update offset for next batch\n",
    "        offset += limit\n",
    "\n",
    "    print(f\"\\nTotal records fetched: {len(all_objects)}\")\n",
    "\n",
    "    # Create list of dictionaries for DataFrame\n",
    "    campaign_pairs = []\n",
    "    for obj in all_objects:\n",
    "        campaign = obj.get('campaign', '')\n",
    "        campaign_ids = obj.get('allEmailCampaignIds', [])\n",
    "        \n",
    "        if campaign_ids:\n",
    "            for email_id in campaign_ids:\n",
    "                campaign_pairs.append({\n",
    "                    'campaign_id': campaign,\n",
    "                    'email_campaign_id': email_id,\n",
    "                    'campaign_name': obj.get('campaignName', '')\n",
    "                })\n",
    "\n",
    "    # Convert to DataFrame and save\n",
    "    df = pd.DataFrame(campaign_pairs)\n",
    "    print(f\"Created DataFrame with {len(df)} rows\")\n",
    "    \n",
    "    df.to_csv(\"emailid_w_campaignid.csv\", index=False)\n",
    "    print(\"Data successfully exported to emailid_w_campaignid.csv\")\n",
    "\n",
    "except requests.exceptions.RequestException as e:\n",
    "    print(f\"Error making API request: {e}\")\n",
    "except json.JSONDecodeError as e:\n",
    "    print(f\"Error parsing JSON response: {e}\")\n",
    "except Exception as e:\n",
    "    print(f\"An unexpected error occurred: {e}\")"
   ]
  }
 ],
 "metadata": {
  "language_info": {
   "name": "python"
  }
 },
 "nbformat": 4,
 "nbformat_minor": 2
}
