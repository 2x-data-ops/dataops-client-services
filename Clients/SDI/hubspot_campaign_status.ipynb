{
 "cells": [
  {
   "cell_type": "code",
   "execution_count": null,
   "metadata": {
    "vscode": {
     "languageId": "plaintext"
    }
   },
   "outputs": [],
   "source": [
    "# Import libraries\n",
    "import requests\n",
    "import pandas as pd\n",
    "import pandas_gbq as bq\n",
    "import pydata_google_auth\n",
    "\n"
   ]
  },
  {
   "cell_type": "code",
   "execution_count": null,
   "metadata": {
    "vscode": {
     "languageId": "plaintext"
    }
   },
   "outputs": [],
   "source": [
    "import json\n",
    "import pandas as pd\n",
    "import requests\n",
    "\n",
    "url = \"https://api.hubapi.com/marketing-emails/v1/emails/\"\n",
    "all_objects = []\n",
    "offset = 0\n",
    "limit = 10  # This seems to be the default limit from the API\n",
    "\n",
    "headers = {\n",
    "    'accept': \"application/json\",\n",
    "    'authorization': f'Bearer {key}'\n",
    "}\n",
    "\n",
    "try:\n",
    "    # Loop until we get all records\n",
    "    while True:\n",
    "        # Add offset to querystring\n",
    "        querystring = {\n",
    "            \"properties\": [\"campaign\"],\n",
    "            \"offset\": offset\n",
    "        }\n",
    "        \n",
    "        response = requests.request(\"GET\", url, headers=headers, params=querystring)\n",
    "        response.raise_for_status()\n",
    "        data = response.json()\n",
    "        \n",
    "        objects = data['objects']\n",
    "        all_objects.extend(objects)\n",
    "        \n",
    "        print(f\"Fetched {len(objects)} objects. Total so far: {len(all_objects)}\")\n",
    "        \n",
    "        # Check if we've got all records\n",
    "        if len(all_objects) >= data['total']:\n",
    "            break\n",
    "            \n",
    "        # Update offset for next batch\n",
    "        offset += limit\n",
    "\n",
    "    print(f\"\\nTotal records fetched: {len(all_objects)}\")\n",
    "\n",
    "    # Create list of dictionaries for DataFrame\n",
    "    campaign_pairs = []\n",
    "    for obj in all_objects:\n",
    "        campaign = obj.get('campaign', '')\n",
    "        campaign_ids = obj.get('allEmailCampaignIds', [])\n",
    "        \n",
    "        if campaign_ids:\n",
    "            for email_id in campaign_ids:\n",
    "                campaign_pairs.append({\n",
    "                    'campaign_id': campaign,\n",
    "                    'email_campaign_id': email_id,\n",
    "                    'campaign_name': obj.get('campaignName', '')\n",
    "                })\n",
    "\n",
    "    # Convert to DataFrame and save\n",
    "    df = pd.DataFrame(campaign_pairs)\n",
    "    print(f\"Created DataFrame with {len(df)} rows\")\n",
    "    \n",
    "    df.to_csv(\"emailid_w_campaignid.csv\", index=False)\n",
    "    print(\"Data successfully exported to emailid_w_campaignid.csv\")\n",
    "\n",
    "except requests.exceptions.RequestException as e:\n",
    "    print(f\"Error making API request: {e}\")\n",
    "except json.JSONDecodeError as e:\n",
    "    print(f\"Error parsing JSON response: {e}\")\n",
    "except Exception as e:\n",
    "    print(f\"An unexpected error occurred: {e}\")"
   ]
  },
  {
   "cell_type": "code",
   "execution_count": null,
   "metadata": {
    "vscode": {
     "languageId": "plaintext"
    }
   },
   "outputs": [],
   "source": [
    "df = pd.read_csv('emailid_w_campaignid.csv')"
   ]
  },
  {
   "cell_type": "code",
   "execution_count": null,
   "metadata": {
    "vscode": {
     "languageId": "plaintext"
    }
   },
   "outputs": [],
   "source": [
    "url = \"https://api.hubapi.com/marketing/v3/campaigns/\"\n",
    "querystring = {\n",
    "    \"properties\": [\"hs_campaign_status\", \"hs_end_date\", \"hs_notes\", \"hs_name\", \"hs_start_date\"]\n",
    "}\n",
    "\n",
    "# Set headers with the authorization token\n",
    "headers = {\n",
    "    'accept': \"application/json\",\n",
    "    'authorization': f'Bearer {key}'  # Replace {key} with your actual token\n",
    "}\n",
    "\n",
    "# Make the GET request\n",
    "response = requests.request(\"GET\", url, headers=headers, params=querystring)\n",
    "\n",
    "# Check if the response is successful\n",
    "if response.status_code == 200:\n",
    "    data = response.json()  # Parse the JSON response\n",
    "    campaigns = data.get(\"results\", [])  # Get the campaigns list if available\n",
    "\n",
    "    # Create a list to store campaign data\n",
    "    campaign_data = []\n",
    "\n",
    "    for campaign in campaigns:\n",
    "        campaign_data.append({\n",
    "            # campaignid\n",
    "            \"GuiID\": campaign.get(\"id\", \"No ID\"),\n",
    "            \"Campaign Name\": campaign.get(\"properties\", {}).get(\"hs_name\", \"Unnamed Campaign\"),\n",
    "            \"Status\": campaign.get(\"properties\", {}).get(\"hs_campaign_status\", \"Unknown Status\"),\n",
    "            \"Start Date\": campaign.get(\"properties\", {}).get(\"hs_start_date\", \"No Start Date\"),\n",
    "            \"End Date\": campaign.get(\"properties\", {}).get(\"hs_end_date\", \"No End Date\"),\n",
    "            \"Notes\": campaign.get(\"properties\", {}).get(\"hs_notes\", \"No Notes\"),\n",
    "        })\n",
    "\n",
    "    # Create a DataFrame from the campaign data\n",
    "    df = pd.DataFrame(campaign_data)\n",
    "\n",
    "    # Print the DataFrame\n",
    "    print(df)\n",
    "\n",
    "    # Optionally save the DataFrame to a CSV file\n",
    "    df.to_csv(\"campaign_data.csv\", index=False)\n",
    "else:\n",
    "    print(f\"Error: {response.status_code} - {response.text}\")"
   ]
  },
  {
   "cell_type": "code",
   "execution_count": null,
   "metadata": {
    "vscode": {
     "languageId": "plaintext"
    }
   },
   "outputs": [],
   "source": [
    "df = pd.read_csv('campaign_data.csv')\n",
    "# project_id = 'x-marketing'\n",
    "# bq.to_gbq(df, 'data_catalog.sample_records', project_id, if_exists='replace', credentials=credentials)\n",
    "df\n"
   ]
  },
  {
   "cell_type": "markdown",
   "metadata": {},
   "source": [
    "Connect to bigquery"
   ]
  },
  {
   "cell_type": "code",
   "execution_count": null,
   "metadata": {
    "vscode": {
     "languageId": "plaintext"
    }
   },
   "outputs": [],
   "source": [
    "SCOPES = [\n",
    "    'https://www.googleapis.com/auth/cloud-platform',\n",
    "    'https://www.googleapis.com/auth/drive',\n",
    "]\n",
    "\n",
    "credentials = pydata_google_auth.get_user_credentials(\n",
    "    SCOPES,\n",
    "    # Note, this doesn't work if you're running from a notebook on a\n",
    "    # remote sever, such as over SSH or with Google Colab. In those cases,\n",
    "    # install the gcloud command line interface and authenticate with the\n",
    "    # `gcloud auth application-default login` command and the `--no-browser`\n",
    "    # option.\n",
    "    auth_local_webserver=True,\n",
    ")"
   ]
  },
  {
   "cell_type": "code",
   "execution_count": null,
   "metadata": {
    "vscode": {
     "languageId": "plaintext"
    }
   },
   "outputs": [],
   "source": [
    "project_id = 'x-marketing'\n",
    "bq.to_gbq(df, 'sdi.email_campaign', project_id, if_exists='replace', credentials=credentials)"
   ]
  },
  {
   "cell_type": "code",
   "execution_count": null,
   "metadata": {
    "vscode": {
     "languageId": "plaintext"
    }
   },
   "outputs": [],
   "source": [
    "project_id = 'x-marketing'\n",
    "bq.to_gbq(df, 'sdi.campaign', project_id, if_exists='replace', credentials=credentials)"
   ]
  }
 ],
 "metadata": {
  "language_info": {
   "name": "python"
  }
 },
 "nbformat": 4,
 "nbformat_minor": 2
}
