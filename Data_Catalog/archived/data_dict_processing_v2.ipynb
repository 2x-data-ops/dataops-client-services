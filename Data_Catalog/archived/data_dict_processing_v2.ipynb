{
 "cells": [
  {
   "cell_type": "code",
   "execution_count": null,
   "metadata": {},
   "outputs": [],
   "source": [
    "# import files\n",
    "import pandas as pd\n",
    "import re\n",
    "import os\n",
    "import json"
   ]
  },
  {
   "cell_type": "code",
   "execution_count": null,
   "metadata": {},
   "outputs": [],
   "source": [
    "# importing file into pandas\n",
    "file_name = 'data_column_field_paths.csv'\n",
    "\n",
    "csv_file_path = f\"input\\\\{file_name}\"\n",
    "\n",
    "# converting data to pandas dataframe \n",
    "df = pd.read_csv(csv_file_path)\n",
    "df"
   ]
  },
  {
   "cell_type": "code",
   "execution_count": null,
   "metadata": {},
   "outputs": [],
   "source": [
    "# extract ARRAY/STRUCT string as data type\n",
    "def extract_prefix(value):\n",
    "    if value.startswith('STRUCT'):\n",
    "        return 'STRUCT'\n",
    "    elif value.startswith('ARRAY'):\n",
    "        return 'ARRAY'\n",
    "    else:\n",
    "        return value\n",
    "\n",
    "# apply function to dataframe\n",
    "df['data_type'] = df['data_type'].apply(extract_prefix)\n",
    "df"
   ]
  },
  {
   "cell_type": "code",
   "execution_count": null,
   "metadata": {},
   "outputs": [],
   "source": [
    "# removing bigquery specific metadata column\n",
    "# we do not need this since these are not relevant\n",
    "df = df[~df['field_path'].isin(['_sdc_rejected_at',\n",
    "                           '_sdc_table_version',\n",
    "                           '_sdc_received_at',\n",
    "                           '_sdc_sequence',\n",
    "                           '_sdc_batched_at',\n",
    "                           '_sdc_extracted_at',\n",
    "                           '_sdc_deleted_at'])]\n",
    "\n",
    "# resetting index to its true row number\n",
    "df = df.reset_index(drop=True)\n",
    "df"
   ]
  },
  {
   "cell_type": "code",
   "execution_count": null,
   "metadata": {},
   "outputs": [],
   "source": [
    "schema_name = 'x3x_hubspot'\n",
    "table_name = 'contacts'\n",
    "\n",
    "# your final table, please specify the dataset/crm, table name, or column(optional)\n",
    "df = df[\n",
    "    # specify dataset/crm\n",
    "    (df['table_schema'] == schema_name) &\n",
    "    # specify table name\n",
    "    (df['table_name'] == table_name) \n",
    "    # specify column name (optional)\n",
    "    # (df['column_name'].str.contains('properties'))\n",
    "]\n",
    "df"
   ]
  },
  {
   "cell_type": "code",
   "execution_count": null,
   "metadata": {},
   "outputs": [],
   "source": [
    "#generate the output directory if not yet exist\n",
    "outdir = './output'\n",
    "if not os.path.exists(outdir):\n",
    "    os.mkdir(outdir)\n",
    "\n",
    "path_to_output_file =\"output\\\\\"\n",
    "\n",
    "#generate CSV file by date time\n",
    "from datetime import datetime\n",
    "csv_file_name = datetime.now().strftime('%Y%m%d-%H%M%S')+\".csv\"\n",
    "\n",
    "# name the csv output name\n",
    "csv_file_path = path_to_output_file + csv_file_name\n",
    "\n",
    "# output syntax\n",
    "df.to_csv(csv_file_path, index=False)\n",
    "\n",
    "print(f\"CSV file saved to: {csv_file_path}\")"
   ]
  }
 ],
 "metadata": {
  "kernelspec": {
   "display_name": "Python 3",
   "language": "python",
   "name": "python3"
  },
  "language_info": {
   "codemirror_mode": {
    "name": "ipython",
    "version": 3
   },
   "file_extension": ".py",
   "mimetype": "text/x-python",
   "name": "python",
   "nbconvert_exporter": "python",
   "pygments_lexer": "ipython3",
   "version": "3.11.4"
  }
 },
 "nbformat": 4,
 "nbformat_minor": 2
}
